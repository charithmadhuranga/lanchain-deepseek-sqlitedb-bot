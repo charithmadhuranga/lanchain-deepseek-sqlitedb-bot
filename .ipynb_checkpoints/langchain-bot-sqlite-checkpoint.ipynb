{
 "cells": [
  {
   "metadata": {},
   "cell_type": "markdown",
   "source": [
    "\n",
    "## LangChain Agent for SQLite Database Interaction (CRUD Operations) with DeepSeek\n",
    "#\n",
    "### This notebook demonstrates how to create a LangChain agent that can interact with a SQLite database using the DeepSeek LLM. The agent will be able to:\n",
    "### - **Query (Read)** data from tables.\n",
    "### - **Add (Create)** new records to tables.\n",
    "### - **Update** existing records.\n",
    "### - **Delete** records from tables.\n",
    "#\n",
    "### We will use the `SQLDatabaseToolkit` and `create_sql_agent` function provided by LangChain.\n",
    "\n",
    "### 1. Setup and Installations\n",
    "### 2. Import Libraries and Configure Environment\n",
    "#\n",
    "### We need to import the required modules and set up our environment, particularly the DeepSeek API key. **It's highly recommended to use environment variables for API keys.**\n",
    "\n",
    "\n",
    "# First, let's install the necessary libraries, including the DeepSeek integration."
   ],
   "id": "5467f8799ec48533"
  },
  {
   "metadata": {
    "ExecuteTime": {
     "end_time": "2025-04-12T06:38:29.742330Z",
     "start_time": "2025-04-12T06:38:27.060583Z"
    }
   },
   "cell_type": "code",
   "source": [
    "\n",
    "!pip3 install -qU langchain langchain-deepseek langchain-community sqlalchemy python-dotenv\n"
   ],
   "id": "9f1af56a35afb9ae",
   "outputs": [
    {
     "name": "stdout",
     "output_type": "stream",
     "text": [
      "\r\n",
      "\u001B[1m[\u001B[0m\u001B[34;49mnotice\u001B[0m\u001B[1;39;49m]\u001B[0m\u001B[39;49m A new release of pip is available: \u001B[0m\u001B[31;49m24.0\u001B[0m\u001B[39;49m -> \u001B[0m\u001B[32;49m25.0.1\u001B[0m\r\n",
      "\u001B[1m[\u001B[0m\u001B[34;49mnotice\u001B[0m\u001B[1;39;49m]\u001B[0m\u001B[39;49m To update, run: \u001B[0m\u001B[32;49mpip3 install --upgrade pip\u001B[0m\r\n"
     ]
    }
   ],
   "execution_count": 1
  },
  {
   "metadata": {
    "ExecuteTime": {
     "end_time": "2025-04-12T06:50:49.865372Z",
     "start_time": "2025-04-12T06:50:49.854132Z"
    }
   },
   "cell_type": "code",
   "source": [
    "\n",
    "from dotenv import load_dotenv\n",
    "import os\n",
    "import sqlite3\n",
    "from langchain_community.utilities import SQLDatabase\n",
    "# Import ChatDeepseek instead of ChatOpenAI\n",
    "from langchain_deepseek import ChatDeepSeek\n",
    "from langchain_community.agent_toolkits import SQLDatabaseToolkit, create_sql_agent\n",
    "from sqlalchemy import create_engine"
   ],
   "id": "e698a78147683389",
   "outputs": [],
   "execution_count": 3
  },
  {
   "metadata": {},
   "cell_type": "markdown",
   "source": [
    "\n",
    "### Optional: for loading .env files\n",
    "### from dotenv import load_dotenv\n",
    "\n",
    "### --- DeepSeek API Key Configuration ---\n",
    "### Option 1: Set as environment variable (Recommended)\n",
    "### Make sure you have DEEPSEEK_API_KEY set in your environment.\n",
    "### os.environ[\"DEEPSEEK_API_KEY\"] = \"YOUR_DEEPSEEK_API_KEY\" # Replace with your key if hardcoding (NOT recommended for production)\n",
    "### Option 2: Or load from a .env file"
   ],
   "id": "96b0b26f8585bba6"
  },
  {
   "metadata": {},
   "cell_type": "code",
   "outputs": [],
   "execution_count": null,
   "source": [
    "\n",
    "load_dotenv()\n",
    "api_key = os.getenv(\"DEEPSEEK_API_KEY\")\n",
    "if not api_key:\n",
    "    print(\"DeepSeek API Key not found. Please set the DEEPSEEK_API_KEY environment variable or place it in a .env file.\")\n",
    "\n",
    "\n",
    "# Check if the key is available\n",
    "# It's generally better practice to let the library handle the key finding,\n",
    "# but this check provides immediate feedback if it's missing.\n",
    "if not os.getenv(\"DEEPSEEK_API_KEY\"):\n",
    "    print(\"Warning: DEEPSEEK_API_KEY environment variable not set. The agent might not function.\")\n",
    "    # You might want to raise an error here or exit depending on your needs\n",
    "    # raise ValueError(\"DEEPSEEK_API_KEY not found in environment variables.\")\n",
    "\n"
   ],
   "id": "3b4a67288204ecb2"
  },
  {
   "metadata": {},
   "cell_type": "markdown",
   "source": [
    "### 3. Database Setup\n",
    "#\n",
    "### We'll create a simple SQLite database named `user_database.db` with a `users` table. If the database or table already exists, we'll connect to it.\n"
   ],
   "id": "13910845eb753a8e"
  },
  {
   "metadata": {},
   "cell_type": "code",
   "outputs": [],
   "execution_count": null,
   "source": [
    "\n",
    "DB_FILE = \"user_database.db\"\n",
    "\n",
    "# Function to initialize the database and table\n",
    "def initialize_database(db_file):\n",
    "    conn = sqlite3.connect(db_file)\n",
    "    cursor = conn.cursor()\n",
    "\n",
    "    # Create users table if it doesn't exist\n",
    "    cursor.execute('''\n",
    "    CREATE TABLE IF NOT EXISTS users (\n",
    "        id INTEGER PRIMARY KEY AUTOINCREMENT,\n",
    "        name TEXT NOT NULL,\n",
    "        age INTEGER,\n",
    "        city TEXT\n",
    "    )\n",
    "    ''')\n",
    "\n",
    "    # Check if table is empty and add some initial data if it is\n",
    "    cursor.execute(\"SELECT COUNT(*) FROM users\")\n",
    "    count = cursor.fetchone()[0]\n",
    "    if count == 0:\n",
    "        print(\"Adding initial data to 'users' table...\")\n",
    "        cursor.executemany('''\n",
    "        INSERT INTO users (name, age, city) VALUES (?, ?, ?)\n",
    "        ''', [\n",
    "            ('Alice', 30, 'New York'),\n",
    "            ('Bob', 25, 'Los Angeles'),\n",
    "            ('Charlie', 35, 'Chicago')\n",
    "        ])\n",
    "        print(\"Initial data added.\")\n",
    "    else:\n",
    "        print(\"'users' table already contains data.\")\n",
    "\n",
    "    conn.commit()\n",
    "    conn.close()\n",
    "    print(f\"Database '{db_file}' initialized successfully.\")\n",
    "\n",
    "# Initialize the database\n",
    "initialize_database(DB_FILE)"
   ],
   "id": "3352a5e0ebbdbd74"
  },
  {
   "metadata": {},
   "cell_type": "markdown",
   "source": [
    "\n",
    "### 4. Connect LangChain to the Database\n",
    "#\n",
    "### We use LangChain's `SQLDatabase` utility to wrap our SQLite database connection. This allows LangChain components to easily interact with it."
   ],
   "id": "a421ae1044b3698b"
  },
  {
   "metadata": {},
   "cell_type": "code",
   "outputs": [],
   "execution_count": null,
   "source": [
    "\n",
    "\n",
    "# Create SQLAlchemy engine\n",
    "engine = create_engine(f\"sqlite:///{DB_FILE}\")"
   ],
   "id": "c098a6d68bfca3cb"
  },
  {
   "metadata": {},
   "cell_type": "code",
   "outputs": [],
   "execution_count": null,
   "source": [
    "\n",
    "# Create LangChain SQLDatabase instance\n",
    "db = SQLDatabase(engine=engine)"
   ],
   "id": "988edb18e3eb32e0"
  },
  {
   "metadata": {},
   "cell_type": "code",
   "outputs": [],
   "execution_count": null,
   "source": [
    "\n",
    "# You can test the connection and see the schema LangChain detects\n",
    "print(\"Detected Table Info:\")\n",
    "print(db.table_info)"
   ],
   "id": "b0860eebb44076e9"
  },
  {
   "metadata": {},
   "cell_type": "markdown",
   "source": [
    "\n",
    "### 5. Initialize the LLM and SQL Agent\n",
    "### We'll use `ChatDeepseek` as our language model and then create the SQL agent using `create_sql_agent`. This agent uses the `SQLDatabaseToolkit`, which provides tools for listing tables, getting schema, and executing/checking SQL queries.\n",
    "\n",
    "### Initialize the LLM using DeepSeek\n",
    "### Adjust model_name as needed (e.g., \"deepseek-chat\", \"deepseek-coder\")\n",
    "### Check DeepSeek documentation for available model names."
   ],
   "id": "d9488cadf79fede"
  },
  {
   "metadata": {},
   "cell_type": "code",
   "outputs": [],
   "execution_count": null,
   "source": [
    "\n",
    "llm = None # Initialize llm to None\n",
    "agent_executor = None # Initialize agent_executor to None\n"
   ],
   "id": "730ffc53a20f30bf"
  },
  {
   "metadata": {},
   "cell_type": "code",
   "outputs": [],
   "execution_count": null,
   "source": [
    "\n",
    "\n",
    "try:\n",
    "    # Ensure the API key is available before initializing\n",
    "    if os.getenv(\"DEEPSEEK_API_KEY\"):\n",
    "        llm = ChatDeepSeek(\n",
    "            model=\"deepseek-chat\", # Replace with your desired DeepSeek model\n",
    "            temperature=0,\n",
    "            # deepseek_api_key=os.getenv(\"DEEPSEEK_API_KEY\") # The library often picks this up automatically from the env var\n",
    "        )\n",
    "        print(\"DeepSeek LLM initialized successfully.\")\n",
    "    else:\n",
    "        # Skip LLM initialization if key is missing\n",
    "        print(\"Skipping LLM initialization because DEEPSEEK_API_KEY is not set.\")\n",
    "\n",
    "except Exception as e:\n",
    "    print(f\"Error initializing DeepSeek LLM: {e}\")\n",
    "    print(\"Please ensure your DEEPSEEK_API_KEY is set correctly and the model name is valid.\")\n",
    "    # llm remains None\n",
    "\n",
    "# Proceed only if LLM initialization was successful\n",
    "if llm:\n",
    "    # Create the SQLDatabaseToolkit\n",
    "    # This toolkit bundles tools for interacting with the SQL database\n",
    "    toolkit = SQLDatabaseToolkit(db=db, llm=llm)\n",
    "\n",
    "    # Create the agent executor\n",
    "    # This agent is specifically designed for SQL interactions\n",
    "    # Note: 'openai-tools' agent_type might still work if DeepSeek's API is compatible\n",
    "    # or if LangChain handles the translation. Test to confirm.\n",
    "    # If issues arise, you might need to explore other agent_types or custom agent creation.\n",
    "    try:\n",
    "        agent_executor = create_sql_agent(\n",
    "            llm=llm,\n",
    "            toolkit=toolkit,\n",
    "            verbose=True, # Set to True to see the agent's thought process\n",
    "            agent_type=\"openai-tools\", # Keep this for now, test compatibility\n",
    "            # You can add prefixes or suffixes to the prompt if needed\n",
    "            # prefix=\"You are an agent designed to interact with a SQL database...\",\n",
    "            # suffix=\"Remember to double-check your SQL queries before execution.\"\n",
    "        )\n",
    "        print(\"DeepSeek Agent Executor created successfully.\")\n",
    "    except Exception as e:\n",
    "        print(f\"Error creating SQL Agent: {e}\")\n",
    "        agent_executor = None # Ensure agent_executor is None if creation failed\n",
    "\n",
    "else:\n",
    "    print(\"Agent Executor cannot be created because LLM initialization failed or was skipped.\")\n"
   ],
   "id": "5d706617b48b14e1"
  },
  {
   "metadata": {},
   "cell_type": "markdown",
   "source": [
    "\n",
    "### 6. Interacting with the Database using the Agent\n",
    "#\n",
    "### Now, let's test the agent's capabilities.\n",
    "### **Note:** These cells will only work if the `agent_executor` was created successfully in the previous step (i.e., the DeepSeek LLM was initialized)."
   ],
   "id": "5aceb4ac07780ccc"
  },
  {
   "metadata": {},
   "cell_type": "markdown",
   "source": [
    "\n",
    "#### 6.1 Querying Data (Read)\n",
    "\n",
    "#### Example 1: Simple listing"
   ],
   "id": "5d1a86d9ea23c7ef"
  },
  {
   "metadata": {},
   "cell_type": "code",
   "outputs": [],
   "execution_count": null,
   "source": [
    "\n",
    "\n",
    "if agent_executor:\n",
    "    try:\n",
    "        response = agent_executor.invoke({\"input\": \"List all users in the database.\"})\n",
    "        print(\"\\nAgent Response:\")\n",
    "        print(response['output'])\n",
    "    except Exception as e:\n",
    "        print(f\"An error occurred during agent invocation: {e}\")\n",
    "else:\n",
    "    print(\"Agent not available. Skipping query.\")\n"
   ],
   "id": "65a8b9d3c46b9a92"
  },
  {
   "metadata": {},
   "cell_type": "code",
   "outputs": [],
   "execution_count": null,
   "source": [
    "\n",
    "# Example 2: Counting records\n",
    "if agent_executor:\n",
    "    try:\n",
    "        response = agent_executor.invoke({\"input\": \"How many users are there?\"})\n",
    "        print(\"\\nAgent Response:\")\n",
    "        print(response['output'])\n",
    "    except Exception as e:\n",
    "        print(f\"An error occurred during agent invocation: {e}\")\n",
    "else:\n",
    "    print(\"Agent not available. Skipping query.\")\n",
    "\n"
   ],
   "id": "2a2ff11ee986a3c"
  },
  {
   "metadata": {},
   "cell_type": "code",
   "outputs": [],
   "execution_count": null,
   "source": [
    "\n",
    "# Example 3: Specific query with condition\n",
    "if agent_executor:\n",
    "    try:\n",
    "        response = agent_executor.invoke({\"input\": \"Show me the details for the user named Bob.\"})\n",
    "        print(\"\\nAgent Response:\")\n",
    "        print(response['output'])\n",
    "    except Exception as e:\n",
    "        print(f\"An error occurred during agent invocation: {e}\")\n",
    "else:\n",
    "    print(\"Agent not available. Skipping query.\")\n"
   ],
   "id": "e31cce7023fbae09"
  },
  {
   "metadata": {},
   "cell_type": "code",
   "outputs": [],
   "execution_count": null,
   "source": [
    "\n",
    "# Example 4: Querying specific columns\n",
    "if agent_executor:\n",
    "    try:\n",
    "        response = agent_executor.invoke({\"input\": \"What are the names and cities of all users?\"})\n",
    "        print(\"\\nAgent Response:\")\n",
    "        print(response['output'])\n",
    "    except Exception as e:\n",
    "        print(f\"An error occurred during agent invocation: {e}\")\n",
    "else:\n",
    "    print(\"Agent not available. Skipping query.\")\n"
   ],
   "id": "ccf61813864ef544"
  },
  {
   "metadata": {},
   "cell_type": "markdown",
   "source": [
    "\n",
    "#### 6.2 Adding Data (Create)\n",
    "#\n",
    "#### **Important Note:** Allowing an LLM agent to modify data (INSERT, UPDATE, DELETE) carries risks. Ensure you understand the implications and have appropriate safeguards or confirmations in a real application. The agent might misunderstand requests or generate incorrect SQL."
   ],
   "id": "c35b5ee34830fdde"
  },
  {
   "metadata": {},
   "cell_type": "code",
   "outputs": [],
   "execution_count": null,
   "source": [
    "\n",
    "# Example 5: Adding a new user\n",
    "if agent_executor:\n",
    "    try:\n",
    "        response = agent_executor.invoke({\"input\": \"Add a new user named 'David' who is 40 years old and lives in 'Houston'.\"})\n",
    "        print(\"\\nAgent Response:\")\n",
    "        print(response['output'])\n",
    "\n",
    "        # Verify the addition by querying\n",
    "        response = agent_executor.invoke({\"input\": \"List all users.\"})\n",
    "        print(\"\\nVerification Query Response:\")\n",
    "        print(response['output'])\n",
    "    except Exception as e:\n",
    "        print(f\"An error occurred during agent invocation: {e}\")\n",
    "else:\n",
    "    print(\"Agent not available. Skipping add operation.\")\n"
   ],
   "id": "a79d9405a85d51ff"
  },
  {
   "metadata": {},
   "cell_type": "code",
   "outputs": [],
   "execution_count": null,
   "source": [
    "\n",
    "# ### 6.3 Updating Data (Update)\n",
    "\n",
    "# Example 6: Updating an existing user's age\n",
    "if agent_executor:\n",
    "    try:\n",
    "        response = agent_executor.invoke({\"input\": \"Update the age of the user named 'Alice' to 31.\"})\n",
    "        print(\"\\nAgent Response:\")\n",
    "        print(response['output'])\n",
    "\n",
    "        # Verify the update\n",
    "        response = agent_executor.invoke({\"input\": \"Show the details for Alice.\"})\n",
    "        print(\"\\nVerification Query Response:\")\n",
    "        print(response['output'])\n",
    "    except Exception as e:\n",
    "        print(f\"An error occurred during agent invocation: {e}\")\n",
    "else:\n",
    "    print(\"Agent not available. Skipping update operation.\")\n"
   ],
   "id": "32e9146c3566044b"
  },
  {
   "metadata": {},
   "cell_type": "code",
   "outputs": [],
   "execution_count": null,
   "source": [
    "\n",
    "# ### 6.4 Deleting Data (Delete)\n",
    "# Example 7: Deleting a user\n",
    "if agent_executor:\n",
    "    try:\n",
    "        # Let's add a temporary user first to delete them safely\n",
    "        print(\"Attempting to add temporary user 'DeleteMe'...\")\n",
    "        add_response = agent_executor.invoke({\"input\": \"Add a user named 'DeleteMe' age 99 city 'Nowhere'.\"})\n",
    "        print(\"Add response:\", add_response['output'])\n",
    "\n",
    "        # Now delete the user\n",
    "        print(\"\\nAttempting to delete user 'DeleteMe'...\")\n",
    "        delete_response = agent_executor.invoke({\"input\": \"Delete the user named 'DeleteMe'.\"})\n",
    "        print(\"\\nAgent Response (Delete):\")\n",
    "        print(delete_response['output'])\n",
    "\n",
    "        # Verify the deletion\n",
    "        print(\"\\nVerifying deletion...\")\n",
    "        verify_response = agent_executor.invoke({\"input\": \"List all users.\"})\n",
    "        print(\"\\nVerification Query Response:\")\n",
    "        print(verify_response['output'])\n",
    "    except Exception as e:\n",
    "        print(f\"An error occurred during agent invocation: {e}\")\n",
    "else:\n",
    "    print(\"Agent not available. Skipping delete operation.\")\n"
   ],
   "id": "39280d219e92c7fc"
  },
  {
   "metadata": {},
   "cell_type": "markdown",
   "source": [
    "\n",
    "### 7. How it Works (Briefly)\n",
    "#\n",
    "#### 1.  **Input:** You provide a natural language request (e.g., \"List all users\").\n",
    "#### 2.  **Agent Thought Process:** The agent (powered by the DeepSeek LLM and toolkit) analyzes the request.\n",
    "#### 3.  **Tool Selection:** It determines that it needs to interact with the SQL database.\n",
    "#### 4.  **SQL Generation:** The LLM generates the appropriate SQL query (e.g., `SELECT * FROM users;`).\n",
    "#### 5.  **SQL Validation (Optional but Recommended):** The toolkit might include steps to validate the SQL syntax.\n",
    "#### 6.  **SQL Execution:** The agent executes the SQL query against the connected database (`user_database.db`).\n",
    "#### 7.  **Result:** The database returns the results of the query (or confirms the success/failure of INSERT/UPDATE/DELETE).\n",
    "#### 8.  **Response Generation:** The agent formats the result into a natural language response (e.g., \"Here are the users: ...\").\n",
    "#\n",
    "#### Setting `verbose=True` when creating the agent allows you to see these intermediate steps (thought process, generated SQL, tool calls, observations).\n"
   ],
   "id": "7b7f0738959b07c4"
  },
  {
   "metadata": {},
   "cell_type": "markdown",
   "source": [
    "\n",
    "### 8. Conclusion\n",
    "#\n",
    "### We have successfully created a LangChain agent capable of performing Create, Read, Update, and Delete (CRUD) operations on a SQLite database using natural language commands powered by the DeepSeek LLM. This demonstrates the power of combining LLMs with specific toolkits like the `SQLDatabaseToolkit` for interacting with structured data sources.\n",
    "#\n",
    "### Remember to exercise caution when granting agents write permissions (INSERT, UPDATE, DELETE) to your databases in production environments. Also, ensure the chosen LLM and agent configuration are suitable and tested for SQL generation accuracy."
   ],
   "id": "d7586ed6718bfd9b"
  },
  {
   "metadata": {
    "ExecuteTime": {
     "end_time": "2025-04-12T06:38:38.475542Z",
     "start_time": "2025-04-12T06:38:38.473316Z"
    }
   },
   "cell_type": "code",
   "source": "",
   "id": "19184aebe2b64817",
   "outputs": [],
   "execution_count": null
  }
 ],
 "metadata": {
  "kernelspec": {
   "display_name": "Python 3",
   "language": "python",
   "name": "python3"
  },
  "language_info": {
   "codemirror_mode": {
    "name": "ipython",
    "version": 2
   },
   "file_extension": ".py",
   "mimetype": "text/x-python",
   "name": "python",
   "nbconvert_exporter": "python",
   "pygments_lexer": "ipython2",
   "version": "2.7.6"
  }
 },
 "nbformat": 4,
 "nbformat_minor": 5
}
